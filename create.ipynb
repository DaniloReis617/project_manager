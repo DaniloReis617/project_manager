{
 "cells": [
  {
   "cell_type": "code",
   "execution_count": 2,
   "metadata": {},
   "outputs": [],
   "source": [
    "import hashlib\n",
    "from database import execute_query\n",
    "\n",
    "def hash_password(password):\n",
    "    return hashlib.sha256(password.encode()).hexdigest()\n",
    "\n",
    "# Criação de tabela de empresas\n",
    "execute_query('''\n",
    "CREATE TABLE IF NOT EXISTS companies (\n",
    "    id INTEGER PRIMARY KEY AUTOINCREMENT,\n",
    "    name TEXT NOT NULL\n",
    ")\n",
    "''')\n",
    "\n",
    "# Criação de tabela de usuários\n",
    "execute_query('''\n",
    "CREATE TABLE IF NOT EXISTS users (\n",
    "    id INTEGER PRIMARY KEY AUTOINCREMENT,\n",
    "    username TEXT NOT NULL UNIQUE,\n",
    "    email TEXT NOT NULL UNIQUE,\n",
    "    password TEXT NOT NULL,\n",
    "    role TEXT NOT NULL CHECK(role IN ('admin', 'manager', 'user', 'dev')),\n",
    "    company_id INTEGER,\n",
    "    FOREIGN KEY (company_id) REFERENCES companies (id)\n",
    ")\n",
    "''')\n",
    "\n",
    "# Criação de tabela de projetos\n",
    "execute_query('''\n",
    "CREATE TABLE IF NOT EXISTS projects (\n",
    "    id INTEGER PRIMARY KEY AUTOINCREMENT,\n",
    "    company_id INTEGER,\n",
    "    name TEXT NOT NULL,\n",
    "    start_date DATE NOT NULL,\n",
    "    end_date DATE NOT NULL,\n",
    "    status TEXT NOT NULL,\n",
    "    manager_id INTEGER,\n",
    "    FOREIGN KEY (company_id) REFERENCES companies (id),\n",
    "    FOREIGN KEY (manager_id) REFERENCES users (id)\n",
    ")\n",
    "''')\n",
    "\n",
    "# Criação de tabela de tarefas\n",
    "execute_query('''\n",
    "CREATE TABLE IF NOT EXISTS tasks (\n",
    "    id INTEGER PRIMARY KEY AUTOINCREMENT,\n",
    "    project_id INTEGER,\n",
    "    name TEXT NOT NULL,\n",
    "    status TEXT NOT NULL,\n",
    "    progress INTEGER,\n",
    "    FOREIGN KEY (project_id) REFERENCES projects (id)\n",
    ")\n",
    "''')\n",
    "\n",
    "# Criação de tabela de equipes\n",
    "execute_query('''\n",
    "CREATE TABLE IF NOT EXISTS team_members (\n",
    "    id INTEGER PRIMARY KEY AUTOINCREMENT,\n",
    "    project_id INTEGER,\n",
    "    user_id INTEGER,\n",
    "    FOREIGN KEY (project_id) REFERENCES projects (id),\n",
    "    FOREIGN KEY (user_id) REFERENCES users (id)\n",
    ")\n",
    "''')\n",
    "\n",
    "# Inserir usuário DEV com os detalhes fornecidos\n",
    "hashed_password = hash_password('danilo21')\n",
    "execute_query('''\n",
    "INSERT INTO users (username, email, password, role, company_id)\n",
    "VALUES (?, ?, ?, ?, NULL)\n",
    "''', ('danilo', 'daniloreis2196@gmail.com', hashed_password, 'dev'))\n"
   ]
  },
  {
   "cell_type": "code",
   "execution_count": 3,
   "metadata": {},
   "outputs": [
    {
     "ename": "TypeError",
     "evalue": "'NoneType' object is not iterable",
     "output_type": "error",
     "traceback": [
      "\u001b[0;31m---------------------------------------------------------------------------\u001b[0m",
      "\u001b[0;31mTypeError\u001b[0m                                 Traceback (most recent call last)",
      "Cell \u001b[0;32mIn[3], line 7\u001b[0m\n\u001b[1;32m      4\u001b[0m result \u001b[38;5;241m=\u001b[39m execute_query(\u001b[38;5;124m'\u001b[39m\u001b[38;5;124mSELECT * FROM companies\u001b[39m\u001b[38;5;124m'\u001b[39m)\n\u001b[1;32m      6\u001b[0m \u001b[38;5;66;03m# Exibindo os dados\u001b[39;00m\n\u001b[0;32m----> 7\u001b[0m \u001b[38;5;28;01mfor\u001b[39;00m row \u001b[38;5;129;01min\u001b[39;00m result:\n\u001b[1;32m      8\u001b[0m     \u001b[38;5;28mprint\u001b[39m(row)\n",
      "\u001b[0;31mTypeError\u001b[0m: 'NoneType' object is not iterable"
     ]
    }
   ],
   "source": [
    "from database import execute_query\n",
    "\n",
    "# Consulta para visualizar os dados da tabela de usuários\n",
    "result = execute_query('SELECT * FROM companies')\n",
    "\n",
    "# Exibindo os dados\n",
    "for row in result:\n",
    "    print(row)"
   ]
  }
 ],
 "metadata": {
  "kernelspec": {
   "display_name": "venv",
   "language": "python",
   "name": "python3"
  },
  "language_info": {
   "codemirror_mode": {
    "name": "ipython",
    "version": 3
   },
   "file_extension": ".py",
   "mimetype": "text/x-python",
   "name": "python",
   "nbconvert_exporter": "python",
   "pygments_lexer": "ipython3",
   "version": "3.10.13"
  }
 },
 "nbformat": 4,
 "nbformat_minor": 2
}
